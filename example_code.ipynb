{
 "cells": [
  {
   "cell_type": "code",
   "execution_count": 2,
   "metadata": {},
   "outputs": [],
   "source": [
    "from intensel_api_client import IntenselAPIClient, AnalysisType, OutputFormat"
   ]
  },
  {
   "cell_type": "code",
   "execution_count": 3,
   "metadata": {},
   "outputs": [],
   "source": [
    "client = IntenselAPIClient(api_key=\"API_KEY_HERE\")"
   ]
  },
  {
   "cell_type": "code",
   "execution_count": 4,
   "metadata": {},
   "outputs": [
    {
     "data": {
      "text/plain": [
       "{'message': 'Project created successfully'}"
      ]
     },
     "execution_count": 4,
     "metadata": {},
     "output_type": "execute_result"
    }
   ],
   "source": [
    "# Create a new project\n",
    "\n",
    "project_name = \"My Test Project\"\n",
    "\n",
    "response = client.create_project(project_name=project_name, variables=[\"rainfall_flood\", \"extreme_heat\"])\n",
    "\n",
    "response"
   ]
  },
  {
   "cell_type": "code",
   "execution_count": 5,
   "metadata": {},
   "outputs": [
    {
     "data": {
      "text/plain": [
       "{'message': 'Asset added successfully'}"
      ]
     },
     "execution_count": 5,
     "metadata": {},
     "output_type": "execute_result"
    }
   ],
   "source": [
    "# Add a Single asset to the project\n",
    "\n",
    "asset_data = {\n",
    "    \"name\": \"Downtown Office Building\",\n",
    "    \"latitude\": 22.2838,\n",
    "    \"longitude\": 114.1588,\n",
    "    \"area\": 5000,\n",
    "    \"valuation\": 10000000,\n",
    "    \"stories\": 20\n",
    "}\n",
    "\n",
    "response = client.add_single_asset(project_name, asset_data)\n",
    "\n",
    "response"
   ]
  },
  {
   "cell_type": "code",
   "execution_count": 9,
   "metadata": {},
   "outputs": [
    {
     "data": {
      "text/plain": [
       "{'message': '2 assets added successfully'}"
      ]
     },
     "execution_count": 9,
     "metadata": {},
     "output_type": "execute_result"
    }
   ],
   "source": [
    "# Add multiple assets to the project\n",
    "\n",
    "assets_data = [\n",
    "    {\n",
    "        \"name\": \"Hong Kong International Airport\",\n",
    "        \"latitude\": 22.3080,\n",
    "        \"longitude\": 113.9185,\n",
    "        \"area\": 1000000,\n",
    "        \"valuation\": 2000,\n",
    "        \"stories\": 4\n",
    "    },\n",
    "    {\n",
    "        \"name\": \"Hong Kong Disneyland\",\n",
    "        \"latitude\": 22.3133,\n",
    "        \"longitude\": 114.0451,\n",
    "        \"area\": 500000,\n",
    "        \"valuation\": 2000,\n",
    "        \"stories\": 2\n",
    "    }\n",
    "]\n",
    "\n",
    "response = client.add_bulk_assets(project_name=project_name, asset_data_list=assets_data)\n",
    "\n",
    "response"
   ]
  },
  {
   "cell_type": "code",
   "execution_count": 10,
   "metadata": {},
   "outputs": [
    {
     "data": {
      "text/plain": [
       "{'requested_variables': ['rainfall_flood', 'extreme_heat'],\n",
       " 'analysis_type': 'rcp',\n",
       " 'asset_names': ['Downtown Office Building',\n",
       "  'Hong Kong International Airport',\n",
       "  'Hong Kong Disneyland'],\n",
       " 'data': [{'name': 'Downtown Office Building',\n",
       "   'latitude': 22.2838,\n",
       "   'longitude': 114.1588,\n",
       "   'hazard_data': {'rainfall_flood': {'meta_data': {'units': '(in meters)'},\n",
       "     'results': {'00_2020': 0.77,\n",
       "      '26_2030': 0.882,\n",
       "      '26_2050': 0.932,\n",
       "      '45_2030': 1.007,\n",
       "      '45_2050': 1.07,\n",
       "      '85_2030': 1.14,\n",
       "      '85_2050': 1.227}},\n",
       "    'extreme_heat': {'meta_data': {'units': '(in degree celsius)'},\n",
       "     'results': {'00_2020': 47.4,\n",
       "      '26_2030': 47.8,\n",
       "      '26_2050': 48.7,\n",
       "      '45_2030': 48.5,\n",
       "      '45_2050': 49.2,\n",
       "      '85_2030': 48.5,\n",
       "      '85_2050': 49.5}}}},\n",
       "  {'name': 'Hong Kong International Airport',\n",
       "   'latitude': 22.308,\n",
       "   'longitude': 113.9185,\n",
       "   'hazard_data': {'rainfall_flood': {'meta_data': {'units': '(in meters)'},\n",
       "     'results': {'00_2020': 0.0,\n",
       "      '26_2030': 0.0,\n",
       "      '26_2050': 0.0,\n",
       "      '45_2030': 0.0,\n",
       "      '45_2050': 0.0,\n",
       "      '85_2030': 0.0,\n",
       "      '85_2050': 0.0}},\n",
       "    'extreme_heat': {'meta_data': {'units': '(in degree celsius)'},\n",
       "     'results': {'00_2020': 47.4,\n",
       "      '26_2030': 47.8,\n",
       "      '26_2050': 48.7,\n",
       "      '45_2030': 48.5,\n",
       "      '45_2050': 49.2,\n",
       "      '85_2030': 48.5,\n",
       "      '85_2050': 49.5}}}},\n",
       "  {'name': 'Hong Kong Disneyland',\n",
       "   'latitude': 22.3133,\n",
       "   'longitude': 114.0451,\n",
       "   'hazard_data': {'rainfall_flood': {'meta_data': {'units': '(in meters)'},\n",
       "     'results': {'00_2020': 0.291,\n",
       "      '26_2030': 0.333,\n",
       "      '26_2050': 0.352,\n",
       "      '45_2030': 0.38,\n",
       "      '45_2050': 0.404,\n",
       "      '85_2030': 0.422,\n",
       "      '85_2050': 0.455}},\n",
       "    'extreme_heat': {'meta_data': {'units': '(in degree celsius)'},\n",
       "     'results': {'00_2020': 47.4,\n",
       "      '26_2030': 47.8,\n",
       "      '26_2050': 48.7,\n",
       "      '45_2030': 48.5,\n",
       "      '45_2050': 49.2,\n",
       "      '85_2030': 48.5,\n",
       "      '85_2050': 49.5}}}}]}"
      ]
     },
     "execution_count": 10,
     "metadata": {},
     "output_type": "execute_result"
    }
   ],
   "source": [
    "# Get Hazard Analysis Data\n",
    "\n",
    "hazard_data = client.get_project_data(\n",
    "    data_type=\"hazard\",\n",
    "    project_name=project_name,\n",
    "    analysis_type=AnalysisType.SSP,\n",
    "    variables=[\"rainfall_flood\", \"extreme_heat\"],\n",
    "    scenarios=[\"0.0\", \"2.6\", \"4.5\", \"8.5\"],\n",
    "    years=[\"2020\", \"2030\", \"2050\"]\n",
    ")\n",
    "\n",
    "hazard_data"
   ]
  },
  {
   "cell_type": "code",
   "execution_count": 11,
   "metadata": {},
   "outputs": [
    {
     "name": "stdout",
     "output_type": "stream",
     "text": [
      "name,latitude,longitude,Rainfall Flood SSP Historic Year 2020 Physical Loss (in million USD),Rainfall Flood SSP 26 Year 2030 Physical Loss (in million USD),Rainfall Flood SSP 26 Year 2050 Physical Loss (in million USD),Rainfall Flood SSP 45 Year 2030 Physical Loss (in million USD),Rainfall Flood SSP 45 Year 2050 Physical Loss (in million USD),Rainfall Flood SSP 85 Year 2030 Physical Loss (in million USD),Rainfall Flood SSP 85 Year 2050 Physical Loss (in million USD),Rainfall Flood SSP Historic Year 2020 Operational Loss (in million USD),Rainfall Flood SSP 26 Year 2030 Operational Loss (in million USD),Rainfall Flood SSP 26 Year 2050 Operational Loss (in million USD),Rainfall Flood SSP 45 Year 2030 Operational Loss (in million USD),Rainfall Flood SSP 45 Year 2050 Operational Loss (in million USD),Rainfall Flood SSP 85 Year 2030 Operational Loss (in million USD),Rainfall Flood SSP 85 Year 2050 Operational Loss (in million USD),Temperature/Heat SSP Historic Year 2020 Operational Loss (in million USD),Temperature/Heat SSP 26 Year 2030 Operational Loss (in million USD),Temperature/Heat SSP 26 Year 2050 Operational Loss (in million USD),Temperature/Heat SSP 45 Year 2030 Operational Loss (in million USD),Temperature/Heat SSP 45 Year 2050 Operational Loss (in million USD),Temperature/Heat SSP 85 Year 2030 Operational Loss (in million USD),Temperature/Heat SSP 85 Year 2050 Operational Loss (in million USD)\n",
      "Downtown Office Building,22.2838,114.1588,0.547608,0.662795,0.713682,0.789911,0.847083,0.913784,1.001134,0.040374,0.054497,0.057621,0.070599,0.082813,0.088186,0.102038,0.0,0.034289,0.04879,0.0,0.008762,0.034897,0.075438\n",
      "Hong Kong International Airport,22.308,113.9185,0.0,0.0,0.0,0.0,0.0,0.0,0.0,0.0,0.0,0.0,0.0,0.0,0.0,0.0,0.0,0.107603,0.153095,0.0,0.011299,0.108952,0.233837\n",
      "Hong Kong Disneyland,22.3133,114.0451,8.056825,11.952944,14.718772,18.867514,21.633342,24.39917,28.547912,0.0,0.0,0.0,0.0,0.0,0.0,0.0,0.0,0.026184,0.037498,0.0,0.003565,0.026662,0.057778\n",
      "\n"
     ]
    }
   ],
   "source": [
    "# Get Loss Analysis Data\n",
    "\n",
    "loss_data = client.get_project_data(\n",
    "    data_type=\"loss\",\n",
    "    project_name=project_name,\n",
    "    analysis_type=AnalysisType.SSP,\n",
    "    variables=[\"rainfall_flood\", \"extreme_heat\"],\n",
    "    scenarios=[\"0.0\", \"2.6\", \"4.5\", \"8.5\"],\n",
    "    years=[\"2020\", \"2030\", \"2050\"],\n",
    "    output_format=OutputFormat.CSV\n",
    ")\n",
    "\n",
    "print(loss_data)"
   ]
  },
  {
   "cell_type": "code",
   "execution_count": 12,
   "metadata": {},
   "outputs": [
    {
     "data": {
      "text/plain": [
       "{'requested_variables': ['rainfall_flood', 'extreme_heat'],\n",
       " 'analysis_type': 'rcp',\n",
       " 'asset_names': ['Downtown Office Building',\n",
       "  'Hong Kong International Airport',\n",
       "  'Hong Kong Disneyland'],\n",
       " 'data': [{'name': 'Downtown Office Building',\n",
       "   'latitude': 22.2838,\n",
       "   'longitude': 114.1588,\n",
       "   'score_data': {'rainfall_flood': {'meta_data': {'units': '0-100'},\n",
       "     'results': {'00_2020': 40,\n",
       "      '26_2030': 45,\n",
       "      '26_2050': 45,\n",
       "      '45_2030': 50,\n",
       "      '45_2050': 52,\n",
       "      '85_2030': 52,\n",
       "      '85_2050': 55}},\n",
       "    'extreme_heat': {'meta_data': {'units': '0-100'},\n",
       "     'results': {'00_2020': 62,\n",
       "      '26_2030': 63,\n",
       "      '26_2050': 65,\n",
       "      '45_2030': 64,\n",
       "      '45_2050': 66,\n",
       "      '85_2030': 64,\n",
       "      '85_2050': 66}},\n",
       "    'overall': {'meta_data': {'units': '0-100'},\n",
       "     'results': {'00_2020': 51,\n",
       "      '26_2030': 54,\n",
       "      '26_2050': 55,\n",
       "      '45_2030': 57,\n",
       "      '45_2050': 59,\n",
       "      '85_2030': 58,\n",
       "      '85_2050': 60}}}},\n",
       "  {'name': 'Hong Kong International Airport',\n",
       "   'latitude': 22.308,\n",
       "   'longitude': 113.9185,\n",
       "   'score_data': {'rainfall_flood': {'meta_data': {'units': '0-100'},\n",
       "     'results': {'00_2020': 0,\n",
       "      '26_2030': 0,\n",
       "      '26_2050': 0,\n",
       "      '45_2030': 0,\n",
       "      '45_2050': 0,\n",
       "      '85_2030': 0,\n",
       "      '85_2050': 0}},\n",
       "    'extreme_heat': {'meta_data': {'units': '0-100'},\n",
       "     'results': {'00_2020': 62,\n",
       "      '26_2030': 63,\n",
       "      '26_2050': 65,\n",
       "      '45_2030': 64,\n",
       "      '45_2050': 66,\n",
       "      '85_2030': 64,\n",
       "      '85_2050': 66}},\n",
       "    'overall': {'meta_data': {'units': '0-100'},\n",
       "     'results': {'00_2020': 31,\n",
       "      '26_2030': 32,\n",
       "      '26_2050': 32,\n",
       "      '45_2030': 32,\n",
       "      '45_2050': 33,\n",
       "      '85_2030': 32,\n",
       "      '85_2050': 33}}}},\n",
       "  {'name': 'Hong Kong Disneyland',\n",
       "   'latitude': 22.3133,\n",
       "   'longitude': 114.0451,\n",
       "   'score_data': {'rainfall_flood': {'meta_data': {'units': '0-100'},\n",
       "     'results': {'00_2020': 15,\n",
       "      '26_2030': 17,\n",
       "      '26_2050': 18,\n",
       "      '45_2030': 19,\n",
       "      '45_2050': 20,\n",
       "      '85_2030': 21,\n",
       "      '85_2050': 23}},\n",
       "    'extreme_heat': {'meta_data': {'units': '0-100'},\n",
       "     'results': {'00_2020': 62,\n",
       "      '26_2030': 63,\n",
       "      '26_2050': 65,\n",
       "      '45_2030': 64,\n",
       "      '45_2050': 66,\n",
       "      '85_2030': 64,\n",
       "      '85_2050': 66}},\n",
       "    'overall': {'meta_data': {'units': '0-100'},\n",
       "     'results': {'00_2020': 38,\n",
       "      '26_2030': 40,\n",
       "      '26_2050': 42,\n",
       "      '45_2030': 42,\n",
       "      '45_2050': 43,\n",
       "      '85_2030': 42,\n",
       "      '85_2050': 44}}}}]}"
      ]
     },
     "execution_count": 12,
     "metadata": {},
     "output_type": "execute_result"
    }
   ],
   "source": [
    "# Get Scores Analysis Data\n",
    "\n",
    "scores_data = client.get_project_data(\n",
    "    data_type=\"scores\",\n",
    "    project_name=project_name,\n",
    "    analysis_type=AnalysisType.SSP,\n",
    "    variables=[\"rainfall_flood\", \"extreme_heat\"],\n",
    "    scenarios=[\"0.0\", \"2.6\", \"4.5\", \"8.5\"],\n",
    "    years=[\"2020\", \"2030\", \"2050\"]\n",
    ")\n",
    "\n",
    "scores_data"
   ]
  }
 ],
 "metadata": {
  "kernelspec": {
   "display_name": "workenv",
   "language": "python",
   "name": "python3"
  },
  "language_info": {
   "codemirror_mode": {
    "name": "ipython",
    "version": 3
   },
   "file_extension": ".py",
   "mimetype": "text/x-python",
   "name": "python",
   "nbconvert_exporter": "python",
   "pygments_lexer": "ipython3",
   "version": "3.12.3"
  }
 },
 "nbformat": 4,
 "nbformat_minor": 2
}
